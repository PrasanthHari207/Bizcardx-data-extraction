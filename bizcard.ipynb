{
 "cells": [
  {
   "cell_type": "code",
   "execution_count": 3,
   "metadata": {},
   "outputs": [],
   "source": [
    "import streamlit as st\n",
    "import easyocr\n",
    "import psycopg2\n",
    "import pandas as pd\n",
    "import re\n",
    "import numpy as np\n",
    "from streamlit_option_menu import option_menu"
   ]
  },
  {
   "cell_type": "code",
   "execution_count": 5,
   "metadata": {},
   "outputs": [],
   "source": [
    "# Connect to the PostgreSQL database\n",
    "conn = psycopg2.connect(host='localhost', user='postgres', password=\"whitedevil\", port=5432, database=\"bizcardxdata\")\n",
    "cursor = conn.cursor()\n",
    "\n",
    "# Create a table in the database\n",
    "cursor.execute(\"\"\"\n",
    "        CREATE TABLE IF NOT EXISTS business_cards (\n",
    "        name VARCHAR(255),\n",
    "        designation VARCHAR(255),\n",
    "        company VARCHAR(255),\n",
    "        email VARCHAR(255),\n",
    "        website VARCHAR(255),\n",
    "        primary_no VARCHAR(255),\n",
    "        secondary_no VARCHAR(255),\n",
    "        address TEXT,\n",
    "        pincode INT,\n",
    "        image BYTEA\n",
    "    )\n",
    "    \"\"\")    \n",
    "conn.commit()"
   ]
  }
 ],
 "metadata": {
  "kernelspec": {
   "display_name": "Python 3",
   "language": "python",
   "name": "python3"
  },
  "language_info": {
   "codemirror_mode": {
    "name": "ipython",
    "version": 3
   },
   "file_extension": ".py",
   "mimetype": "text/x-python",
   "name": "python",
   "nbconvert_exporter": "python",
   "pygments_lexer": "ipython3",
   "version": "3.11.8"
  }
 },
 "nbformat": 4,
 "nbformat_minor": 2
}
